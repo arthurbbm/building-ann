{
 "cells": [
  {
   "cell_type": "markdown",
   "metadata": {},
   "source": [
    "# REDES NEURAIS ARTIFICIAIS\n",
    "\n",
    "[Aula 3 de Deep Learning](http://bit.ly/dn-unb03) da Engenharia de Software da UnB"
   ]
  },
  {
   "cell_type": "code",
   "execution_count": 1,
   "metadata": {},
   "outputs": [
    {
     "name": "stdout",
     "output_type": "stream",
     "text": [
      "Collecting git+git://github.com/Theano/Theano.git\n",
      "  Cloning git://github.com/Theano/Theano.git to /tmp/pip-req-build-i22b1xpl\n",
      "Building wheels for collected packages: Theano\n",
      "  Building wheel for Theano (setup.py) ... \u001b[?25ldone\n",
      "\u001b[?25h  Created wheel for Theano: filename=Theano-1.0.5+1.geb6a4125c-py3-none-any.whl size=2668281 sha256=45a5047553327793dd9c4f87f24fd414f752288d283432457875ca385405f16f\n",
      "  Stored in directory: /tmp/pip-ephem-wheel-cache-_bctt2jv/wheels/31/0b/3d/ec0a7d000aed975d9ad70a301a3bd2c5fcdab43b1eba72eb59\n",
      "Successfully built Theano\n",
      "Installing collected packages: Theano\n",
      "  Attempting uninstall: Theano\n",
      "    Found existing installation: Theano 1.0.5+1.geb6a4125c\n",
      "    Uninstalling Theano-1.0.5+1.geb6a4125c:\n",
      "      Successfully uninstalled Theano-1.0.5+1.geb6a4125c\n",
      "Successfully installed Theano-1.0.5+1.geb6a4125c\n",
      "Requirement already up-to-date: pip in /home/isaque/Envs/buidingann/lib/python3.6/site-packages (20.2.3)\n",
      "Requirement already up-to-date: pandas in /home/isaque/Envs/buidingann/lib/python3.6/site-packages (1.1.2)\n",
      "Requirement already up-to-date: matplotlib in /home/isaque/Envs/buidingann/lib/python3.6/site-packages (3.3.2)\n",
      "Requirement already up-to-date: sklearn in /home/isaque/Envs/buidingann/lib/python3.6/site-packages (0.0)\n",
      "Requirement already up-to-date: tensorflow in /home/isaque/Envs/buidingann/lib/python3.6/site-packages (2.3.0)\n",
      "Requirement already up-to-date: keras==2.2.5 in /home/isaque/Envs/buidingann/lib/python3.6/site-packages (2.2.5)\n",
      "Requirement already satisfied, skipping upgrade: python-dateutil>=2.7.3 in /home/isaque/Envs/buidingann/lib/python3.6/site-packages (from pandas) (2.8.1)\n",
      "Requirement already satisfied, skipping upgrade: numpy>=1.15.4 in /home/isaque/Envs/buidingann/lib/python3.6/site-packages (from pandas) (1.18.5)\n",
      "Requirement already satisfied, skipping upgrade: pytz>=2017.2 in /home/isaque/Envs/buidingann/lib/python3.6/site-packages (from pandas) (2020.1)\n",
      "Requirement already satisfied, skipping upgrade: cycler>=0.10 in /home/isaque/Envs/buidingann/lib/python3.6/site-packages (from matplotlib) (0.10.0)\n",
      "Requirement already satisfied, skipping upgrade: kiwisolver>=1.0.1 in /home/isaque/Envs/buidingann/lib/python3.6/site-packages (from matplotlib) (1.2.0)\n",
      "Requirement already satisfied, skipping upgrade: pyparsing!=2.0.4,!=2.1.2,!=2.1.6,>=2.0.3 in /home/isaque/Envs/buidingann/lib/python3.6/site-packages (from matplotlib) (2.4.7)\n",
      "Requirement already satisfied, skipping upgrade: certifi>=2020.06.20 in /home/isaque/Envs/buidingann/lib/python3.6/site-packages (from matplotlib) (2020.6.20)\n",
      "Requirement already satisfied, skipping upgrade: pillow>=6.2.0 in /home/isaque/Envs/buidingann/lib/python3.6/site-packages (from matplotlib) (7.2.0)\n",
      "Requirement already satisfied, skipping upgrade: scikit-learn in /home/isaque/Envs/buidingann/lib/python3.6/site-packages (from sklearn) (0.23.2)\n",
      "Requirement already satisfied, skipping upgrade: gast==0.3.3 in /home/isaque/Envs/buidingann/lib/python3.6/site-packages (from tensorflow) (0.3.3)\n",
      "Requirement already satisfied, skipping upgrade: termcolor>=1.1.0 in /home/isaque/Envs/buidingann/lib/python3.6/site-packages (from tensorflow) (1.1.0)\n",
      "Requirement already satisfied, skipping upgrade: grpcio>=1.8.6 in /home/isaque/Envs/buidingann/lib/python3.6/site-packages (from tensorflow) (1.32.0)\n",
      "Requirement already satisfied, skipping upgrade: wheel>=0.26 in /home/isaque/Envs/buidingann/lib/python3.6/site-packages (from tensorflow) (0.35.1)\n",
      "Requirement already satisfied, skipping upgrade: h5py<2.11.0,>=2.10.0 in /home/isaque/Envs/buidingann/lib/python3.6/site-packages (from tensorflow) (2.10.0)\n",
      "Requirement already satisfied, skipping upgrade: protobuf>=3.9.2 in /home/isaque/Envs/buidingann/lib/python3.6/site-packages (from tensorflow) (3.13.0)\n",
      "Requirement already satisfied, skipping upgrade: tensorboard<3,>=2.3.0 in /home/isaque/Envs/buidingann/lib/python3.6/site-packages (from tensorflow) (2.3.0)\n",
      "Requirement already satisfied, skipping upgrade: google-pasta>=0.1.8 in /home/isaque/Envs/buidingann/lib/python3.6/site-packages (from tensorflow) (0.2.0)\n",
      "Requirement already satisfied, skipping upgrade: tensorflow-estimator<2.4.0,>=2.3.0 in /home/isaque/Envs/buidingann/lib/python3.6/site-packages (from tensorflow) (2.3.0)\n",
      "Requirement already satisfied, skipping upgrade: astunparse==1.6.3 in /home/isaque/Envs/buidingann/lib/python3.6/site-packages (from tensorflow) (1.6.3)\n",
      "Requirement already satisfied, skipping upgrade: scipy==1.4.1 in /home/isaque/Envs/buidingann/lib/python3.6/site-packages (from tensorflow) (1.4.1)\n",
      "Requirement already satisfied, skipping upgrade: six>=1.12.0 in /home/isaque/Envs/buidingann/lib/python3.6/site-packages (from tensorflow) (1.15.0)\n",
      "Requirement already satisfied, skipping upgrade: opt-einsum>=2.3.2 in /home/isaque/Envs/buidingann/lib/python3.6/site-packages (from tensorflow) (3.3.0)\n",
      "Requirement already satisfied, skipping upgrade: keras-preprocessing<1.2,>=1.1.1 in /home/isaque/Envs/buidingann/lib/python3.6/site-packages (from tensorflow) (1.1.2)\n",
      "Requirement already satisfied, skipping upgrade: absl-py>=0.7.0 in /home/isaque/Envs/buidingann/lib/python3.6/site-packages (from tensorflow) (0.10.0)\n",
      "Requirement already satisfied, skipping upgrade: wrapt>=1.11.1 in /home/isaque/Envs/buidingann/lib/python3.6/site-packages (from tensorflow) (1.12.1)\n",
      "Requirement already satisfied, skipping upgrade: keras-applications>=1.0.8 in /home/isaque/Envs/buidingann/lib/python3.6/site-packages (from keras==2.2.5) (1.0.8)\n",
      "Requirement already satisfied, skipping upgrade: pyyaml in /home/isaque/Envs/buidingann/lib/python3.6/site-packages (from keras==2.2.5) (5.3.1)\n",
      "Requirement already satisfied, skipping upgrade: threadpoolctl>=2.0.0 in /home/isaque/Envs/buidingann/lib/python3.6/site-packages (from scikit-learn->sklearn) (2.1.0)\n",
      "Requirement already satisfied, skipping upgrade: joblib>=0.11 in /home/isaque/Envs/buidingann/lib/python3.6/site-packages (from scikit-learn->sklearn) (0.16.0)\n",
      "Requirement already satisfied, skipping upgrade: setuptools in /home/isaque/Envs/buidingann/lib/python3.6/site-packages (from protobuf>=3.9.2->tensorflow) (49.6.0)\n",
      "Requirement already satisfied, skipping upgrade: tensorboard-plugin-wit>=1.6.0 in /home/isaque/Envs/buidingann/lib/python3.6/site-packages (from tensorboard<3,>=2.3.0->tensorflow) (1.7.0)\n",
      "Requirement already satisfied, skipping upgrade: markdown>=2.6.8 in /home/isaque/Envs/buidingann/lib/python3.6/site-packages (from tensorboard<3,>=2.3.0->tensorflow) (3.2.2)\n",
      "Requirement already satisfied, skipping upgrade: requests<3,>=2.21.0 in /home/isaque/Envs/buidingann/lib/python3.6/site-packages (from tensorboard<3,>=2.3.0->tensorflow) (2.24.0)\n",
      "Requirement already satisfied, skipping upgrade: werkzeug>=0.11.15 in /home/isaque/Envs/buidingann/lib/python3.6/site-packages (from tensorboard<3,>=2.3.0->tensorflow) (1.0.1)\n",
      "Requirement already satisfied, skipping upgrade: google-auth-oauthlib<0.5,>=0.4.1 in /home/isaque/Envs/buidingann/lib/python3.6/site-packages (from tensorboard<3,>=2.3.0->tensorflow) (0.4.1)\n",
      "Requirement already satisfied, skipping upgrade: google-auth<2,>=1.6.3 in /home/isaque/Envs/buidingann/lib/python3.6/site-packages (from tensorboard<3,>=2.3.0->tensorflow) (1.21.2)\n",
      "Requirement already satisfied, skipping upgrade: importlib-metadata; python_version < \"3.8\" in /home/isaque/Envs/buidingann/lib/python3.6/site-packages (from markdown>=2.6.8->tensorboard<3,>=2.3.0->tensorflow) (1.7.0)\n",
      "Requirement already satisfied, skipping upgrade: urllib3!=1.25.0,!=1.25.1,<1.26,>=1.21.1 in /home/isaque/Envs/buidingann/lib/python3.6/site-packages (from requests<3,>=2.21.0->tensorboard<3,>=2.3.0->tensorflow) (1.25.10)\n",
      "Requirement already satisfied, skipping upgrade: idna<3,>=2.5 in /home/isaque/Envs/buidingann/lib/python3.6/site-packages (from requests<3,>=2.21.0->tensorboard<3,>=2.3.0->tensorflow) (2.10)\n",
      "Requirement already satisfied, skipping upgrade: chardet<4,>=3.0.2 in /home/isaque/Envs/buidingann/lib/python3.6/site-packages (from requests<3,>=2.21.0->tensorboard<3,>=2.3.0->tensorflow) (3.0.4)\n",
      "Requirement already satisfied, skipping upgrade: requests-oauthlib>=0.7.0 in /home/isaque/Envs/buidingann/lib/python3.6/site-packages (from google-auth-oauthlib<0.5,>=0.4.1->tensorboard<3,>=2.3.0->tensorflow) (1.3.0)\n",
      "Requirement already satisfied, skipping upgrade: rsa<5,>=3.1.4; python_version >= \"3.5\" in /home/isaque/Envs/buidingann/lib/python3.6/site-packages (from google-auth<2,>=1.6.3->tensorboard<3,>=2.3.0->tensorflow) (4.6)\n",
      "Requirement already satisfied, skipping upgrade: cachetools<5.0,>=2.0.0 in /home/isaque/Envs/buidingann/lib/python3.6/site-packages (from google-auth<2,>=1.6.3->tensorboard<3,>=2.3.0->tensorflow) (4.1.1)\n"
     ]
    },
    {
     "name": "stdout",
     "output_type": "stream",
     "text": [
      "Requirement already satisfied, skipping upgrade: pyasn1-modules>=0.2.1 in /home/isaque/Envs/buidingann/lib/python3.6/site-packages (from google-auth<2,>=1.6.3->tensorboard<3,>=2.3.0->tensorflow) (0.2.8)\r\n",
      "Requirement already satisfied, skipping upgrade: zipp>=0.5 in /home/isaque/Envs/buidingann/lib/python3.6/site-packages (from importlib-metadata; python_version < \"3.8\"->markdown>=2.6.8->tensorboard<3,>=2.3.0->tensorflow) (3.1.0)\r\n",
      "Requirement already satisfied, skipping upgrade: oauthlib>=3.0.0 in /home/isaque/Envs/buidingann/lib/python3.6/site-packages (from requests-oauthlib>=0.7.0->google-auth-oauthlib<0.5,>=0.4.1->tensorboard<3,>=2.3.0->tensorflow) (3.1.0)\r\n",
      "Requirement already satisfied, skipping upgrade: pyasn1>=0.1.3 in /home/isaque/Envs/buidingann/lib/python3.6/site-packages (from rsa<5,>=3.1.4; python_version >= \"3.5\"->google-auth<2,>=1.6.3->tensorboard<3,>=2.3.0->tensorflow) (0.4.8)\r\n"
     ]
    }
   ],
   "source": [
    "#! pip install -r requirements.txt\n",
    "# Installing Theano\n",
    "! pip install --upgrade --no-deps git+git://github.com/Theano/Theano.git\n",
    "\n",
    "# Install other packages\n",
    "! pip install --upgrade pip pandas matplotlib sklearn tensorflow keras==2.2.5"
   ]
  },
  {
   "cell_type": "markdown",
   "metadata": {},
   "source": [
    "# Parte 1 - Preprocessamento dos Dados"
   ]
  },
  {
   "cell_type": "markdown",
   "metadata": {},
   "source": [
    "### Importar as libs"
   ]
  },
  {
   "cell_type": "code",
   "execution_count": 2,
   "metadata": {},
   "outputs": [],
   "source": [
    "import numpy as np\n",
    "import matplotlib.pyplot as plt\n",
    "import pandas as pd\n",
    "from sklearn.compose import ColumnTransformer\n",
    "from sklearn.preprocessing import OneHotEncoder, LabelEncoder"
   ]
  },
  {
   "cell_type": "markdown",
   "metadata": {},
   "source": [
    "### Importar o dataset"
   ]
  },
  {
   "cell_type": "code",
   "execution_count": 3,
   "metadata": {},
   "outputs": [
    {
     "name": "stdout",
     "output_type": "stream",
     "text": [
      "X >>\n",
      "\n",
      "[[619 'France' 'Female' ... 1 1 101348.88]\n",
      " [608 'Spain' 'Female' ... 0 1 112542.58]\n",
      " [502 'France' 'Female' ... 1 0 113931.57]\n",
      " ...\n",
      " [709 'France' 'Female' ... 0 1 42085.58]\n",
      " [772 'Germany' 'Male' ... 1 0 92888.52]\n",
      " [792 'France' 'Female' ... 1 0 38190.78]]\n",
      "y >>\n",
      " [1 0 1 ... 1 1 0]\n"
     ]
    }
   ],
   "source": [
    "dataset = pd.read_csv('Churn_Modelling.csv')\n",
    "X = dataset.iloc[:, 3:13].values\n",
    "y = dataset.iloc[:, 13].values\n",
    "print(\"X >>\\n\")\n",
    "print(X)\n",
    "print(\"y >>\\n\",y)\n"
   ]
  },
  {
   "cell_type": "markdown",
   "metadata": {},
   "source": [
    "### Transformando os dados categóricos\n"
   ]
  },
  {
   "cell_type": "code",
   "execution_count": 4,
   "metadata": {},
   "outputs": [
    {
     "name": "stdout",
     "output_type": "stream",
     "text": [
      "X >>\n",
      " [[0.0 0.0 619 ... 1 1 101348.88]\n",
      " [0.0 1.0 608 ... 0 1 112542.58]\n",
      " [0.0 0.0 502 ... 1 0 113931.57]\n",
      " ...\n",
      " [0.0 0.0 709 ... 0 1 42085.58]\n",
      " [1.0 0.0 772 ... 1 0 92888.52]\n",
      " [0.0 0.0 792 ... 1 0 38190.78]]\n"
     ]
    }
   ],
   "source": [
    "labelencoder_X_1 = LabelEncoder()\n",
    "X[:, 1] = labelencoder_X_1.fit_transform(X[:, 1])\n",
    "\n",
    "labelencoder_X_2 = LabelEncoder()\n",
    "X[:, 2] = labelencoder_X_2.fit_transform(X[:, 2])\n",
    "\n",
    "transformer = ColumnTransformer(\n",
    "    transformers=[\n",
    "        (\"OneHot\",\n",
    "         OneHotEncoder(),\n",
    "         [1]\n",
    "         )\n",
    "    ],\n",
    "    remainder = 'passthrough'\n",
    ")\n",
    "X = transformer.fit_transform(X)\n",
    "\n",
    "X = X[:, 1:]\n",
    "print(\"X >>\\n\",X)"
   ]
  },
  {
   "cell_type": "markdown",
   "metadata": {},
   "source": [
    "# Dividindo o dataset em conjunto de treinamento e conjunto de teste"
   ]
  },
  {
   "cell_type": "code",
   "execution_count": 5,
   "metadata": {},
   "outputs": [],
   "source": [
    "from sklearn.model_selection import train_test_split\n",
    "X_train, X_test, y_train, y_test = train_test_split(X, y, test_size = 0.2, random_state = 0)"
   ]
  },
  {
   "cell_type": "markdown",
   "metadata": {},
   "source": [
    "# Feature Scaling"
   ]
  },
  {
   "cell_type": "code",
   "execution_count": 6,
   "metadata": {},
   "outputs": [],
   "source": [
    "from sklearn.preprocessing import StandardScaler\n",
    "sc = StandardScaler()\n",
    "X_train = sc.fit_transform(X_train)\n",
    "X_test = sc.transform(X_test)"
   ]
  },
  {
   "cell_type": "markdown",
   "metadata": {},
   "source": [
    "---\n",
    "# Parte 2 -Vamos construir uma ANN!\n",
    "\n",
    "## Importando o Keras\n"
   ]
  },
  {
   "cell_type": "code",
   "execution_count": 11,
   "metadata": {},
   "outputs": [],
   "source": [
    "#import keras\n",
    "#from keras.models import Sequential\n",
    "#from keras.layers import Dense\n",
    "\n",
    "from tensorflow.python.keras.layers import Dense\n",
    "from tensorflow.python.keras import Sequential"
   ]
  },
  {
   "cell_type": "code",
   "execution_count": 36,
   "metadata": {},
   "outputs": [],
   "source": [
    "# Initialising the ANN\n",
    "classifier = Sequential()\n",
    "\n",
    "# Adding the input layer and the first hidden layer\n",
    "classifier.add(Dense(units = 6, kernel_initializer = 'uniform', activation = 'softsign', input_dim = 11))\n",
    "\n",
    "# Adding the second hidden layer\n",
    "classifier.add(Dense(units = 6, kernel_initializer = 'uniform', activation = 'softplus'))\n",
    "\n",
    "# Adding the output layer\n",
    "classifier.add(Dense(units = 1, kernel_initializer = 'uniform', activation = 'sigmoid'))\n",
    "\n",
    "# Compiling the ANN\n",
    "classifier.compile(optimizer = 'adam', loss = 'binary_crossentropy', metrics = ['accuracy'])"
   ]
  },
  {
   "cell_type": "markdown",
   "metadata": {},
   "source": [
    "# Ajustando a ANN ao conjunto de treinamento"
   ]
  },
  {
   "cell_type": "code",
   "execution_count": 37,
   "metadata": {},
   "outputs": [
    {
     "name": "stdout",
     "output_type": "stream",
     "text": [
      "Epoch 1/100\n",
      "800/800 [==============================] - 1s 646us/step - loss: 0.4774 - accuracy: 0.7960\n",
      "Epoch 2/100\n",
      "800/800 [==============================] - 0s 610us/step - loss: 0.4306 - accuracy: 0.7960\n",
      "Epoch 3/100\n",
      "800/800 [==============================] - 1s 647us/step - loss: 0.4288 - accuracy: 0.7960\n",
      "Epoch 4/100\n",
      "800/800 [==============================] - 1s 653us/step - loss: 0.4284 - accuracy: 0.7960\n",
      "Epoch 5/100\n",
      "800/800 [==============================] - 1s 660us/step - loss: 0.4278 - accuracy: 0.7958\n",
      "Epoch 6/100\n",
      "800/800 [==============================] - 0s 602us/step - loss: 0.4268 - accuracy: 0.7952\n",
      "Epoch 7/100\n",
      "800/800 [==============================] - 1s 650us/step - loss: 0.4254 - accuracy: 0.7949\n",
      "Epoch 8/100\n",
      "800/800 [==============================] - 1s 674us/step - loss: 0.4232 - accuracy: 0.7986\n",
      "Epoch 9/100\n",
      "800/800 [==============================] - 1s 645us/step - loss: 0.4190 - accuracy: 0.8052\n",
      "Epoch 10/100\n",
      "800/800 [==============================] - 0s 604us/step - loss: 0.4142 - accuracy: 0.8086\n",
      "Epoch 11/100\n",
      "800/800 [==============================] - 1s 667us/step - loss: 0.4086 - accuracy: 0.8148\n",
      "Epoch 12/100\n",
      "800/800 [==============================] - 0s 623us/step - loss: 0.4034 - accuracy: 0.8173\n",
      "Epoch 13/100\n",
      "800/800 [==============================] - 1s 643us/step - loss: 0.3968 - accuracy: 0.8200\n",
      "Epoch 14/100\n",
      "800/800 [==============================] - 1s 647us/step - loss: 0.3904 - accuracy: 0.8257\n",
      "Epoch 15/100\n",
      "800/800 [==============================] - 1s 648us/step - loss: 0.3840 - accuracy: 0.8303\n",
      "Epoch 16/100\n",
      "800/800 [==============================] - 0s 619us/step - loss: 0.3788 - accuracy: 0.8371\n",
      "Epoch 17/100\n",
      "800/800 [==============================] - 1s 641us/step - loss: 0.3736 - accuracy: 0.8404\n",
      "Epoch 18/100\n",
      "800/800 [==============================] - 1s 657us/step - loss: 0.3690 - accuracy: 0.8462\n",
      "Epoch 19/100\n",
      "800/800 [==============================] - 1s 655us/step - loss: 0.3655 - accuracy: 0.8486\n",
      "Epoch 20/100\n",
      "800/800 [==============================] - 0s 585us/step - loss: 0.3621 - accuracy: 0.8524\n",
      "Epoch 21/100\n",
      "800/800 [==============================] - 1s 661us/step - loss: 0.3594 - accuracy: 0.8556\n",
      "Epoch 22/100\n",
      "800/800 [==============================] - 0s 602us/step - loss: 0.3569 - accuracy: 0.8566\n",
      "Epoch 23/100\n",
      "800/800 [==============================] - 0s 623us/step - loss: 0.3551 - accuracy: 0.8562\n",
      "Epoch 24/100\n",
      "800/800 [==============================] - 1s 663us/step - loss: 0.3535 - accuracy: 0.8577\n",
      "Epoch 25/100\n",
      "800/800 [==============================] - 0s 614us/step - loss: 0.3518 - accuracy: 0.8574\n",
      "Epoch 26/100\n",
      "800/800 [==============================] - 0s 621us/step - loss: 0.3500 - accuracy: 0.8596\n",
      "Epoch 27/100\n",
      "800/800 [==============================] - 1s 651us/step - loss: 0.3490 - accuracy: 0.8576\n",
      "Epoch 28/100\n",
      "800/800 [==============================] - 1s 658us/step - loss: 0.3478 - accuracy: 0.85960s - loss: 0.3535 - accu\n",
      "Epoch 29/100\n",
      "800/800 [==============================] - 1s 641us/step - loss: 0.3468 - accuracy: 0.8600\n",
      "Epoch 30/100\n",
      "800/800 [==============================] - 0s 587us/step - loss: 0.3457 - accuracy: 0.8594\n",
      "Epoch 31/100\n",
      "800/800 [==============================] - 0s 624us/step - loss: 0.3450 - accuracy: 0.8581\n",
      "Epoch 32/100\n",
      "800/800 [==============================] - 1s 628us/step - loss: 0.3445 - accuracy: 0.8601\n",
      "Epoch 33/100\n",
      "800/800 [==============================] - 1s 627us/step - loss: 0.3435 - accuracy: 0.8584\n",
      "Epoch 34/100\n",
      "800/800 [==============================] - 1s 639us/step - loss: 0.3424 - accuracy: 0.8605\n",
      "Epoch 35/100\n",
      "800/800 [==============================] - 1s 651us/step - loss: 0.3428 - accuracy: 0.8602\n",
      "Epoch 36/100\n",
      "800/800 [==============================] - 1s 641us/step - loss: 0.3423 - accuracy: 0.8605\n",
      "Epoch 37/100\n",
      "800/800 [==============================] - 0s 608us/step - loss: 0.3416 - accuracy: 0.8608\n",
      "Epoch 38/100\n",
      "800/800 [==============================] - 1s 664us/step - loss: 0.3413 - accuracy: 0.8606\n",
      "Epoch 39/100\n",
      "800/800 [==============================] - 0s 605us/step - loss: 0.3413 - accuracy: 0.8622\n",
      "Epoch 40/100\n",
      "800/800 [==============================] - 1s 636us/step - loss: 0.3410 - accuracy: 0.8612\n",
      "Epoch 41/100\n",
      "800/800 [==============================] - 1s 649us/step - loss: 0.3407 - accuracy: 0.8624\n",
      "Epoch 42/100\n",
      "800/800 [==============================] - 0s 602us/step - loss: 0.3403 - accuracy: 0.8611\n",
      "Epoch 43/100\n",
      "800/800 [==============================] - 1s 646us/step - loss: 0.3403 - accuracy: 0.8615\n",
      "Epoch 44/100\n",
      "800/800 [==============================] - 0s 610us/step - loss: 0.3398 - accuracy: 0.8622\n",
      "Epoch 45/100\n",
      "800/800 [==============================] - 1s 645us/step - loss: 0.3396 - accuracy: 0.8612\n",
      "Epoch 46/100\n",
      "800/800 [==============================] - 0s 619us/step - loss: 0.3391 - accuracy: 0.8615\n",
      "Epoch 47/100\n",
      "800/800 [==============================] - 1s 626us/step - loss: 0.3394 - accuracy: 0.8634\n",
      "Epoch 48/100\n",
      "800/800 [==============================] - 1s 657us/step - loss: 0.3392 - accuracy: 0.8631\n",
      "Epoch 49/100\n",
      "800/800 [==============================] - 0s 609us/step - loss: 0.3388 - accuracy: 0.8644\n",
      "Epoch 50/100\n",
      "800/800 [==============================] - 0s 618us/step - loss: 0.3388 - accuracy: 0.8627\n",
      "Epoch 51/100\n",
      "800/800 [==============================] - 0s 599us/step - loss: 0.3386 - accuracy: 0.8627\n",
      "Epoch 52/100\n",
      "800/800 [==============================] - 1s 628us/step - loss: 0.3381 - accuracy: 0.8627\n",
      "Epoch 53/100\n",
      "800/800 [==============================] - 0s 603us/step - loss: 0.3386 - accuracy: 0.8639\n",
      "Epoch 54/100\n",
      "800/800 [==============================] - 1s 650us/step - loss: 0.3388 - accuracy: 0.8633\n",
      "Epoch 55/100\n",
      "800/800 [==============================] - 0s 616us/step - loss: 0.3380 - accuracy: 0.8615\n",
      "Epoch 56/100\n",
      "800/800 [==============================] - 1s 628us/step - loss: 0.3383 - accuracy: 0.8624\n",
      "Epoch 57/100\n",
      "800/800 [==============================] - 0s 599us/step - loss: 0.3384 - accuracy: 0.8619\n",
      "Epoch 58/100\n",
      "800/800 [==============================] - 0s 622us/step - loss: 0.3381 - accuracy: 0.8625\n",
      "Epoch 59/100\n",
      "800/800 [==============================] - 0s 574us/step - loss: 0.3378 - accuracy: 0.8637\n",
      "Epoch 60/100\n",
      "800/800 [==============================] - 0s 618us/step - loss: 0.3373 - accuracy: 0.8644\n",
      "Epoch 61/100\n",
      "800/800 [==============================] - 0s 609us/step - loss: 0.3374 - accuracy: 0.8636\n",
      "Epoch 62/100\n",
      "800/800 [==============================] - 0s 601us/step - loss: 0.3376 - accuracy: 0.8643\n",
      "Epoch 63/100\n",
      "800/800 [==============================] - 1s 628us/step - loss: 0.3377 - accuracy: 0.8634\n",
      "Epoch 64/100\n",
      "800/800 [==============================] - 0s 606us/step - loss: 0.3374 - accuracy: 0.8624\n",
      "Epoch 65/100\n",
      "800/800 [==============================] - 0s 619us/step - loss: 0.3371 - accuracy: 0.8633\n",
      "Epoch 66/100\n",
      "800/800 [==============================] - 0s 610us/step - loss: 0.3373 - accuracy: 0.8625\n",
      "Epoch 67/100\n",
      "800/800 [==============================] - 0s 613us/step - loss: 0.3370 - accuracy: 0.8651\n",
      "Epoch 68/100\n",
      "800/800 [==============================] - 0s 541us/step - loss: 0.3372 - accuracy: 0.8636\n",
      "Epoch 69/100\n",
      "800/800 [==============================] - 1s 629us/step - loss: 0.3368 - accuracy: 0.8633\n",
      "Epoch 70/100\n",
      "800/800 [==============================] - 0s 517us/step - loss: 0.3365 - accuracy: 0.8631\n",
      "Epoch 71/100\n",
      "800/800 [==============================] - 0s 584us/step - loss: 0.3372 - accuracy: 0.8626\n",
      "Epoch 72/100\n",
      "800/800 [==============================] - 0s 610us/step - loss: 0.3365 - accuracy: 0.8634\n",
      "Epoch 73/100\n",
      "800/800 [==============================] - 0s 616us/step - loss: 0.3367 - accuracy: 0.8634\n",
      "Epoch 74/100\n",
      "800/800 [==============================] - 0s 603us/step - loss: 0.3370 - accuracy: 0.8625\n",
      "Epoch 75/100\n",
      "800/800 [==============================] - 1s 639us/step - loss: 0.3368 - accuracy: 0.8629\n",
      "Epoch 76/100\n",
      "800/800 [==============================] - 0s 623us/step - loss: 0.3363 - accuracy: 0.8648\n",
      "Epoch 77/100\n",
      "800/800 [==============================] - 0s 614us/step - loss: 0.3367 - accuracy: 0.8648\n",
      "Epoch 78/100\n",
      "800/800 [==============================] - 0s 616us/step - loss: 0.3363 - accuracy: 0.8641\n",
      "Epoch 79/100\n"
     ]
    },
    {
     "name": "stdout",
     "output_type": "stream",
     "text": [
      "800/800 [==============================] - 1s 640us/step - loss: 0.3363 - accuracy: 0.8645\n",
      "Epoch 80/100\n",
      "800/800 [==============================] - 0s 618us/step - loss: 0.3357 - accuracy: 0.8636\n",
      "Epoch 81/100\n",
      "800/800 [==============================] - 1s 685us/step - loss: 0.3364 - accuracy: 0.8640\n",
      "Epoch 82/100\n",
      "800/800 [==============================] - 1s 637us/step - loss: 0.3361 - accuracy: 0.8633\n",
      "Epoch 83/100\n",
      "800/800 [==============================] - 0s 620us/step - loss: 0.3357 - accuracy: 0.8627\n",
      "Epoch 84/100\n",
      "800/800 [==============================] - 1s 663us/step - loss: 0.3363 - accuracy: 0.8636\n",
      "Epoch 85/100\n",
      "800/800 [==============================] - 1s 645us/step - loss: 0.3357 - accuracy: 0.8629\n",
      "Epoch 86/100\n",
      "800/800 [==============================] - 1s 631us/step - loss: 0.3353 - accuracy: 0.8654\n",
      "Epoch 87/100\n",
      "800/800 [==============================] - 1s 653us/step - loss: 0.3356 - accuracy: 0.8649\n",
      "Epoch 88/100\n",
      "800/800 [==============================] - 0s 618us/step - loss: 0.3358 - accuracy: 0.8652\n",
      "Epoch 89/100\n",
      "800/800 [==============================] - 1s 642us/step - loss: 0.3359 - accuracy: 0.8655\n",
      "Epoch 90/100\n",
      "800/800 [==============================] - 0s 590us/step - loss: 0.3359 - accuracy: 0.8662\n",
      "Epoch 91/100\n",
      "800/800 [==============================] - 1s 640us/step - loss: 0.3357 - accuracy: 0.8654\n",
      "Epoch 92/100\n",
      "800/800 [==============================] - 1s 636us/step - loss: 0.3354 - accuracy: 0.8654\n",
      "Epoch 93/100\n",
      "800/800 [==============================] - 1s 652us/step - loss: 0.3361 - accuracy: 0.8639\n",
      "Epoch 94/100\n",
      "800/800 [==============================] - 0s 623us/step - loss: 0.3355 - accuracy: 0.8637\n",
      "Epoch 95/100\n",
      "800/800 [==============================] - 1s 643us/step - loss: 0.3350 - accuracy: 0.8624\n",
      "Epoch 96/100\n",
      "800/800 [==============================] - 0s 613us/step - loss: 0.3357 - accuracy: 0.8670\n",
      "Epoch 97/100\n",
      "800/800 [==============================] - 1s 646us/step - loss: 0.3349 - accuracy: 0.8659\n",
      "Epoch 98/100\n",
      "800/800 [==============================] - 1s 636us/step - loss: 0.3353 - accuracy: 0.8640\n",
      "Epoch 99/100\n",
      "800/800 [==============================] - 0s 608us/step - loss: 0.3352 - accuracy: 0.8640\n",
      "Epoch 100/100\n",
      "800/800 [==============================] - 1s 638us/step - loss: 0.3351 - accuracy: 0.8645\n"
     ]
    },
    {
     "data": {
      "text/plain": [
       "<tensorflow.python.keras.callbacks.History at 0x7fac403915c0>"
      ]
     },
     "execution_count": 37,
     "metadata": {},
     "output_type": "execute_result"
    }
   ],
   "source": [
    "classifier.fit(X_train, y_train, batch_size = 10, epochs = 100)"
   ]
  },
  {
   "cell_type": "markdown",
   "metadata": {},
   "source": [
    "# Parte 3 - Fazendo predições e avaliando o modelo\n",
    "\n",
    "## Prevendo os resultados com o conjunto de testes"
   ]
  },
  {
   "cell_type": "code",
   "execution_count": 38,
   "metadata": {},
   "outputs": [],
   "source": [
    "y_pred = classifier.predict(X_test)\n",
    "y_pred = (y_pred > 0.5)"
   ]
  },
  {
   "cell_type": "markdown",
   "metadata": {},
   "source": [
    "# Criando uma Confusion Matrix"
   ]
  },
  {
   "cell_type": "code",
   "execution_count": 39,
   "metadata": {},
   "outputs": [
    {
     "name": "stdout",
     "output_type": "stream",
     "text": [
      "[[1499   96]\n",
      " [ 185  220]]\n"
     ]
    }
   ],
   "source": [
    "from sklearn.metrics import confusion_matrix\n",
    "cm = confusion_matrix(y_test, y_pred)\n",
    "print(cm)"
   ]
  },
  {
   "cell_type": "markdown",
   "metadata": {},
   "source": [
    "# Initiate activation function experimentation\n",
    "\n",
    "# Initialising the 2nd ANN"
   ]
  },
  {
   "cell_type": "code",
   "execution_count": 44,
   "metadata": {},
   "outputs": [
    {
     "name": "stdout",
     "output_type": "stream",
     "text": [
      "Epoch 1/100\n",
      "800/800 [==============================] - 1s 639us/step - loss: 0.4990 - accuracy: 0.7955\n",
      "Epoch 2/100\n",
      "800/800 [==============================] - 0s 622us/step - loss: 0.4414 - accuracy: 0.7970\n",
      "Epoch 3/100\n",
      "800/800 [==============================] - 0s 608us/step - loss: 0.4302 - accuracy: 0.8043\n",
      "Epoch 4/100\n",
      "800/800 [==============================] - 0s 617us/step - loss: 0.4283 - accuracy: 0.8039\n",
      "Epoch 5/100\n",
      "800/800 [==============================] - 1s 649us/step - loss: 0.4280 - accuracy: 0.8043\n",
      "Epoch 6/100\n",
      "800/800 [==============================] - 0s 621us/step - loss: 0.4276 - accuracy: 0.8046\n",
      "Epoch 7/100\n",
      "800/800 [==============================] - 1s 650us/step - loss: 0.4276 - accuracy: 0.8061\n",
      "Epoch 8/100\n",
      "800/800 [==============================] - 1s 660us/step - loss: 0.4271 - accuracy: 0.8055\n",
      "Epoch 9/100\n",
      "800/800 [==============================] - 1s 646us/step - loss: 0.4266 - accuracy: 0.8062\n",
      "Epoch 10/100\n",
      "800/800 [==============================] - 1s 628us/step - loss: 0.4256 - accuracy: 0.8099\n",
      "Epoch 11/100\n",
      "800/800 [==============================] - 1s 651us/step - loss: 0.4238 - accuracy: 0.8152\n",
      "Epoch 12/100\n",
      "800/800 [==============================] - 0s 602us/step - loss: 0.4218 - accuracy: 0.8184\n",
      "Epoch 13/100\n",
      "800/800 [==============================] - 0s 608us/step - loss: 0.4195 - accuracy: 0.8226\n",
      "Epoch 14/100\n",
      "800/800 [==============================] - 0s 585us/step - loss: 0.4173 - accuracy: 0.8241\n",
      "Epoch 15/100\n",
      "800/800 [==============================] - 0s 617us/step - loss: 0.4151 - accuracy: 0.8257\n",
      "Epoch 16/100\n",
      "800/800 [==============================] - 1s 626us/step - loss: 0.4131 - accuracy: 0.8285\n",
      "Epoch 17/100\n",
      "800/800 [==============================] - 1s 667us/step - loss: 0.4114 - accuracy: 0.8290\n",
      "Epoch 18/100\n",
      "800/800 [==============================] - 1s 630us/step - loss: 0.4101 - accuracy: 0.8296\n",
      "Epoch 19/100\n",
      "800/800 [==============================] - 1s 653us/step - loss: 0.4088 - accuracy: 0.8313\n",
      "Epoch 20/100\n",
      "800/800 [==============================] - 1s 649us/step - loss: 0.4075 - accuracy: 0.8307\n",
      "Epoch 21/100\n",
      "800/800 [==============================] - 1s 625us/step - loss: 0.4065 - accuracy: 0.8322\n",
      "Epoch 22/100\n",
      "800/800 [==============================] - 1s 634us/step - loss: 0.4059 - accuracy: 0.8329\n",
      "Epoch 23/100\n",
      "800/800 [==============================] - 0s 622us/step - loss: 0.4055 - accuracy: 0.8326\n",
      "Epoch 24/100\n",
      "800/800 [==============================] - 0s 614us/step - loss: 0.4048 - accuracy: 0.8340\n",
      "Epoch 25/100\n",
      "800/800 [==============================] - 1s 636us/step - loss: 0.4042 - accuracy: 0.8339\n",
      "Epoch 26/100\n",
      "800/800 [==============================] - 1s 636us/step - loss: 0.4037 - accuracy: 0.8354\n",
      "Epoch 27/100\n",
      "800/800 [==============================] - 1s 632us/step - loss: 0.4035 - accuracy: 0.8346\n",
      "Epoch 28/100\n",
      "800/800 [==============================] - 1s 635us/step - loss: 0.4029 - accuracy: 0.8345\n",
      "Epoch 29/100\n",
      "800/800 [==============================] - 0s 609us/step - loss: 0.4020 - accuracy: 0.8357\n",
      "Epoch 30/100\n",
      "800/800 [==============================] - 1s 649us/step - loss: 0.4023 - accuracy: 0.8355\n",
      "Epoch 31/100\n",
      "800/800 [==============================] - 0s 616us/step - loss: 0.4020 - accuracy: 0.8351\n",
      "Epoch 32/100\n",
      "800/800 [==============================] - 1s 626us/step - loss: 0.4015 - accuracy: 0.8360\n",
      "Epoch 33/100\n",
      "800/800 [==============================] - 0s 624us/step - loss: 0.4010 - accuracy: 0.8355\n",
      "Epoch 34/100\n",
      "800/800 [==============================] - 0s 605us/step - loss: 0.4011 - accuracy: 0.8350\n",
      "Epoch 35/100\n",
      "800/800 [==============================] - 0s 623us/step - loss: 0.4008 - accuracy: 0.8366\n",
      "Epoch 36/100\n",
      "800/800 [==============================] - 1s 644us/step - loss: 0.4000 - accuracy: 0.8355\n",
      "Epoch 37/100\n",
      "800/800 [==============================] - 0s 623us/step - loss: 0.3999 - accuracy: 0.8359\n",
      "Epoch 38/100\n",
      "800/800 [==============================] - 1s 633us/step - loss: 0.3999 - accuracy: 0.8363\n",
      "Epoch 39/100\n",
      "800/800 [==============================] - 0s 620us/step - loss: 0.3994 - accuracy: 0.8366\n",
      "Epoch 40/100\n",
      "800/800 [==============================] - 1s 626us/step - loss: 0.3991 - accuracy: 0.8372\n",
      "Epoch 41/100\n",
      "800/800 [==============================] - 0s 615us/step - loss: 0.3988 - accuracy: 0.8350\n",
      "Epoch 42/100\n",
      "800/800 [==============================] - 0s 606us/step - loss: 0.3988 - accuracy: 0.8379\n",
      "Epoch 43/100\n",
      "800/800 [==============================] - 1s 657us/step - loss: 0.3983 - accuracy: 0.8356\n",
      "Epoch 44/100\n",
      "800/800 [==============================] - 0s 616us/step - loss: 0.3982 - accuracy: 0.8363\n",
      "Epoch 45/100\n",
      "800/800 [==============================] - 0s 604us/step - loss: 0.3975 - accuracy: 0.8360\n",
      "Epoch 46/100\n",
      "800/800 [==============================] - 0s 615us/step - loss: 0.3974 - accuracy: 0.8361\n",
      "Epoch 47/100\n",
      "800/800 [==============================] - 1s 626us/step - loss: 0.3971 - accuracy: 0.8367\n",
      "Epoch 48/100\n",
      "800/800 [==============================] - 1s 648us/step - loss: 0.3970 - accuracy: 0.8364\n",
      "Epoch 49/100\n",
      "800/800 [==============================] - 0s 612us/step - loss: 0.3966 - accuracy: 0.8365\n",
      "Epoch 50/100\n",
      "800/800 [==============================] - 0s 621us/step - loss: 0.3964 - accuracy: 0.8363\n",
      "Epoch 51/100\n",
      "800/800 [==============================] - 0s 622us/step - loss: 0.3959 - accuracy: 0.8365\n",
      "Epoch 52/100\n",
      "800/800 [==============================] - 0s 584us/step - loss: 0.3958 - accuracy: 0.8360\n",
      "Epoch 53/100\n",
      "800/800 [==============================] - 0s 590us/step - loss: 0.3958 - accuracy: 0.8364\n",
      "Epoch 54/100\n",
      "800/800 [==============================] - 1s 634us/step - loss: 0.3955 - accuracy: 0.8374\n",
      "Epoch 55/100\n",
      "800/800 [==============================] - 1s 631us/step - loss: 0.3947 - accuracy: 0.8369\n",
      "Epoch 56/100\n",
      "800/800 [==============================] - 0s 593us/step - loss: 0.3952 - accuracy: 0.8374\n",
      "Epoch 57/100\n",
      "800/800 [==============================] - 1s 658us/step - loss: 0.3943 - accuracy: 0.8376\n",
      "Epoch 58/100\n",
      "800/800 [==============================] - 0s 597us/step - loss: 0.3944 - accuracy: 0.8379\n",
      "Epoch 59/100\n",
      "800/800 [==============================] - 0s 612us/step - loss: 0.3940 - accuracy: 0.8363\n",
      "Epoch 60/100\n",
      "800/800 [==============================] - 0s 621us/step - loss: 0.3932 - accuracy: 0.8374\n",
      "Epoch 61/100\n",
      "800/800 [==============================] - 0s 612us/step - loss: 0.3931 - accuracy: 0.8378\n",
      "Epoch 62/100\n",
      "800/800 [==============================] - 0s 592us/step - loss: 0.3927 - accuracy: 0.8388\n",
      "Epoch 63/100\n",
      "800/800 [==============================] - 0s 602us/step - loss: 0.3924 - accuracy: 0.8391\n",
      "Epoch 64/100\n",
      "800/800 [==============================] - 0s 591us/step - loss: 0.3916 - accuracy: 0.8391\n",
      "Epoch 65/100\n",
      "800/800 [==============================] - 1s 627us/step - loss: 0.3912 - accuracy: 0.8385\n",
      "Epoch 66/100\n",
      "800/800 [==============================] - 0s 587us/step - loss: 0.3906 - accuracy: 0.8400\n",
      "Epoch 67/100\n",
      "800/800 [==============================] - 0s 611us/step - loss: 0.3900 - accuracy: 0.8397\n",
      "Epoch 68/100\n",
      "800/800 [==============================] - 0s 619us/step - loss: 0.3895 - accuracy: 0.8385\n",
      "Epoch 69/100\n",
      "800/800 [==============================] - 0s 614us/step - loss: 0.3893 - accuracy: 0.8390\n",
      "Epoch 70/100\n",
      "800/800 [==============================] - 0s 599us/step - loss: 0.3888 - accuracy: 0.8400\n",
      "Epoch 71/100\n",
      "800/800 [==============================] - 0s 588us/step - loss: 0.3885 - accuracy: 0.8395\n",
      "Epoch 72/100\n",
      "800/800 [==============================] - 0s 560us/step - loss: 0.3879 - accuracy: 0.8414\n",
      "Epoch 73/100\n",
      "800/800 [==============================] - 0s 590us/step - loss: 0.3876 - accuracy: 0.8404\n",
      "Epoch 74/100\n",
      "800/800 [==============================] - 0s 597us/step - loss: 0.3872 - accuracy: 0.84040s - loss: 0.3922 - accuracy: \n",
      "Epoch 75/100\n",
      "800/800 [==============================] - 0s 594us/step - loss: 0.3864 - accuracy: 0.8405\n",
      "Epoch 76/100\n",
      "800/800 [==============================] - 0s 590us/step - loss: 0.3862 - accuracy: 0.8411\n",
      "Epoch 77/100\n",
      "800/800 [==============================] - 0s 599us/step - loss: 0.3856 - accuracy: 0.8405\n",
      "Epoch 78/100\n",
      "800/800 [==============================] - 0s 594us/step - loss: 0.3849 - accuracy: 0.8414\n",
      "Epoch 79/100\n"
     ]
    },
    {
     "name": "stdout",
     "output_type": "stream",
     "text": [
      "800/800 [==============================] - 1s 635us/step - loss: 0.3841 - accuracy: 0.8391\n",
      "Epoch 80/100\n",
      "800/800 [==============================] - 1s 664us/step - loss: 0.3829 - accuracy: 0.8411\n",
      "Epoch 81/100\n",
      "800/800 [==============================] - 1s 681us/step - loss: 0.3817 - accuracy: 0.8421\n",
      "Epoch 82/100\n",
      "800/800 [==============================] - 1s 656us/step - loss: 0.3798 - accuracy: 0.8406\n",
      "Epoch 83/100\n",
      "800/800 [==============================] - 1s 669us/step - loss: 0.3773 - accuracy: 0.8424\n",
      "Epoch 84/100\n",
      "800/800 [==============================] - 0s 610us/step - loss: 0.3741 - accuracy: 0.8436\n",
      "Epoch 85/100\n",
      "800/800 [==============================] - 1s 653us/step - loss: 0.3705 - accuracy: 0.8434\n",
      "Epoch 86/100\n",
      "800/800 [==============================] - 0s 607us/step - loss: 0.3654 - accuracy: 0.8474\n",
      "Epoch 87/100\n",
      "800/800 [==============================] - 0s 622us/step - loss: 0.3602 - accuracy: 0.8464\n",
      "Epoch 88/100\n",
      "800/800 [==============================] - 0s 613us/step - loss: 0.3565 - accuracy: 0.8503\n",
      "Epoch 89/100\n",
      "800/800 [==============================] - 1s 635us/step - loss: 0.3528 - accuracy: 0.8522\n",
      "Epoch 90/100\n",
      "800/800 [==============================] - 1s 656us/step - loss: 0.3506 - accuracy: 0.8528\n",
      "Epoch 91/100\n",
      "800/800 [==============================] - 1s 642us/step - loss: 0.3498 - accuracy: 0.8556\n",
      "Epoch 92/100\n",
      "800/800 [==============================] - 0s 592us/step - loss: 0.3477 - accuracy: 0.8553\n",
      "Epoch 93/100\n",
      "800/800 [==============================] - 1s 633us/step - loss: 0.3463 - accuracy: 0.85590s - loss: 0.3445 - accura\n",
      "Epoch 94/100\n",
      "800/800 [==============================] - 1s 627us/step - loss: 0.3455 - accuracy: 0.8551\n",
      "Epoch 95/100\n",
      "800/800 [==============================] - 0s 592us/step - loss: 0.3453 - accuracy: 0.8562\n",
      "Epoch 96/100\n",
      "800/800 [==============================] - 1s 641us/step - loss: 0.3446 - accuracy: 0.8566\n",
      "Epoch 97/100\n",
      "800/800 [==============================] - 0s 623us/step - loss: 0.3442 - accuracy: 0.8564\n",
      "Epoch 98/100\n",
      "800/800 [==============================] - 0s 600us/step - loss: 0.3435 - accuracy: 0.8564\n",
      "Epoch 99/100\n",
      "800/800 [==============================] - 1s 641us/step - loss: 0.3430 - accuracy: 0.8554\n",
      "Epoch 100/100\n",
      "800/800 [==============================] - 0s 587us/step - loss: 0.3421 - accuracy: 0.8587\n"
     ]
    },
    {
     "data": {
      "text/plain": [
       "<tensorflow.python.keras.callbacks.History at 0x7fac384f65f8>"
      ]
     },
     "execution_count": 44,
     "metadata": {},
     "output_type": "execute_result"
    }
   ],
   "source": [
    "del classifier\n",
    "\n",
    "classifier = Sequential()\n",
    "\n",
    "classifier.add(Dense(units = 6, kernel_initializer = 'uniform', activation = 'sigmoid', input_dim = 11))\n",
    "\n",
    "classifier.add(Dense(units = 6, kernel_initializer = 'uniform', activation = 'selu'))\n",
    "\n",
    "classifier.add(Dense(units = 1, kernel_initializer = 'uniform', activation = 'sigmoid'))\n",
    "\n",
    "classifier.compile(optimizer = 'adam', loss = 'binary_crossentropy', metrics = ['accuracy'])\n",
    "\n",
    "classifier.fit(X_train, y_train, batch_size = 10, epochs = 100)"
   ]
  },
  {
   "cell_type": "code",
   "execution_count": 45,
   "metadata": {},
   "outputs": [],
   "source": [
    "y_pred = classifier.predict(X_test)\n",
    "y_pred = (y_pred > 0.5)"
   ]
  },
  {
   "cell_type": "markdown",
   "metadata": {},
   "source": [
    "# Making the Confusion Matrix"
   ]
  },
  {
   "cell_type": "code",
   "execution_count": 46,
   "metadata": {},
   "outputs": [
    {
     "name": "stdout",
     "output_type": "stream",
     "text": [
      "[[1502   93]\n",
      " [ 195  210]]\n"
     ]
    }
   ],
   "source": [
    "from sklearn.metrics import confusion_matrix\n",
    "cm = confusion_matrix(y_test, y_pred)\n",
    "print(cm)"
   ]
  },
  {
   "cell_type": "markdown",
   "metadata": {},
   "source": [
    "# Initialising the 3rd ANN"
   ]
  },
  {
   "cell_type": "code",
   "execution_count": 47,
   "metadata": {},
   "outputs": [
    {
     "name": "stdout",
     "output_type": "stream",
     "text": [
      "Epoch 1/100\n",
      "800/800 [==============================] - 1s 688us/step - loss: 0.5388 - accuracy: 0.7949\n",
      "Epoch 2/100\n",
      "800/800 [==============================] - 1s 681us/step - loss: 0.4410 - accuracy: 0.7961\n",
      "Epoch 3/100\n",
      "800/800 [==============================] - 1s 678us/step - loss: 0.4215 - accuracy: 0.8090\n",
      "Epoch 4/100\n",
      "800/800 [==============================] - 1s 672us/step - loss: 0.4098 - accuracy: 0.8185\n",
      "Epoch 5/100\n",
      "800/800 [==============================] - 1s 656us/step - loss: 0.3931 - accuracy: 0.8322\n",
      "Epoch 6/100\n",
      "800/800 [==============================] - 1s 685us/step - loss: 0.3765 - accuracy: 0.8460\n",
      "Epoch 7/100\n",
      "800/800 [==============================] - 1s 642us/step - loss: 0.3638 - accuracy: 0.8547\n",
      "Epoch 8/100\n",
      "800/800 [==============================] - 1s 627us/step - loss: 0.3552 - accuracy: 0.8586\n",
      "Epoch 9/100\n",
      "800/800 [==============================] - 1s 644us/step - loss: 0.3505 - accuracy: 0.8625\n",
      "Epoch 10/100\n",
      "800/800 [==============================] - 1s 662us/step - loss: 0.3474 - accuracy: 0.8622\n",
      "Epoch 11/100\n",
      "800/800 [==============================] - 1s 637us/step - loss: 0.3452 - accuracy: 0.8621\n",
      "Epoch 12/100\n",
      "800/800 [==============================] - 1s 662us/step - loss: 0.3438 - accuracy: 0.8601\n",
      "Epoch 13/100\n",
      "800/800 [==============================] - 1s 658us/step - loss: 0.3428 - accuracy: 0.8601\n",
      "Epoch 14/100\n",
      "800/800 [==============================] - 1s 686us/step - loss: 0.3419 - accuracy: 0.8599\n",
      "Epoch 15/100\n",
      "800/800 [==============================] - 1s 703us/step - loss: 0.3414 - accuracy: 0.8619\n",
      "Epoch 16/100\n",
      "800/800 [==============================] - 1s 653us/step - loss: 0.3406 - accuracy: 0.8614\n",
      "Epoch 17/100\n",
      "800/800 [==============================] - 0s 604us/step - loss: 0.3401 - accuracy: 0.8614\n",
      "Epoch 18/100\n",
      "800/800 [==============================] - 1s 644us/step - loss: 0.3403 - accuracy: 0.8618\n",
      "Epoch 19/100\n",
      "800/800 [==============================] - 1s 654us/step - loss: 0.3398 - accuracy: 0.8619\n",
      "Epoch 20/100\n",
      "800/800 [==============================] - 1s 684us/step - loss: 0.3390 - accuracy: 0.8625\n",
      "Epoch 21/100\n",
      "800/800 [==============================] - 1s 683us/step - loss: 0.3391 - accuracy: 0.8615\n",
      "Epoch 22/100\n",
      "800/800 [==============================] - 1s 670us/step - loss: 0.3390 - accuracy: 0.8614\n",
      "Epoch 23/100\n",
      "800/800 [==============================] - 1s 645us/step - loss: 0.3382 - accuracy: 0.8609\n",
      "Epoch 24/100\n",
      "800/800 [==============================] - 1s 672us/step - loss: 0.3388 - accuracy: 0.8621\n",
      "Epoch 25/100\n",
      "800/800 [==============================] - 1s 647us/step - loss: 0.3382 - accuracy: 0.8615\n",
      "Epoch 26/100\n",
      "800/800 [==============================] - 0s 614us/step - loss: 0.3379 - accuracy: 0.8624\n",
      "Epoch 27/100\n",
      "800/800 [==============================] - 1s 650us/step - loss: 0.3378 - accuracy: 0.8627\n",
      "Epoch 28/100\n",
      "800/800 [==============================] - 1s 654us/step - loss: 0.3375 - accuracy: 0.8626\n",
      "Epoch 29/100\n",
      "800/800 [==============================] - 1s 664us/step - loss: 0.3374 - accuracy: 0.8615\n",
      "Epoch 30/100\n",
      "800/800 [==============================] - 1s 659us/step - loss: 0.3374 - accuracy: 0.8631\n",
      "Epoch 31/100\n",
      "800/800 [==============================] - 1s 667us/step - loss: 0.3371 - accuracy: 0.8624\n",
      "Epoch 32/100\n",
      "800/800 [==============================] - 1s 633us/step - loss: 0.3365 - accuracy: 0.8643\n",
      "Epoch 33/100\n",
      "800/800 [==============================] - 1s 647us/step - loss: 0.3371 - accuracy: 0.8621\n",
      "Epoch 34/100\n",
      "800/800 [==============================] - 1s 648us/step - loss: 0.3363 - accuracy: 0.8618\n",
      "Epoch 35/100\n",
      "800/800 [==============================] - 1s 636us/step - loss: 0.3365 - accuracy: 0.8640\n",
      "Epoch 36/100\n",
      "800/800 [==============================] - 1s 652us/step - loss: 0.3364 - accuracy: 0.8601\n",
      "Epoch 37/100\n",
      "800/800 [==============================] - 1s 657us/step - loss: 0.3363 - accuracy: 0.8630\n",
      "Epoch 38/100\n",
      "800/800 [==============================] - 1s 639us/step - loss: 0.3367 - accuracy: 0.8619\n",
      "Epoch 39/100\n",
      "800/800 [==============================] - 1s 646us/step - loss: 0.3366 - accuracy: 0.8630\n",
      "Epoch 40/100\n",
      "800/800 [==============================] - 1s 657us/step - loss: 0.3363 - accuracy: 0.8624\n",
      "Epoch 41/100\n",
      "800/800 [==============================] - 1s 674us/step - loss: 0.3363 - accuracy: 0.8637\n",
      "Epoch 42/100\n",
      "800/800 [==============================] - 1s 644us/step - loss: 0.3361 - accuracy: 0.8643\n",
      "Epoch 43/100\n",
      "800/800 [==============================] - 1s 685us/step - loss: 0.3362 - accuracy: 0.8618\n",
      "Epoch 44/100\n",
      "800/800 [==============================] - 1s 651us/step - loss: 0.3362 - accuracy: 0.8633\n",
      "Epoch 45/100\n",
      "800/800 [==============================] - 0s 621us/step - loss: 0.3359 - accuracy: 0.8624\n",
      "Epoch 46/100\n",
      "800/800 [==============================] - 1s 633us/step - loss: 0.3363 - accuracy: 0.8622\n",
      "Epoch 47/100\n",
      "800/800 [==============================] - 1s 644us/step - loss: 0.3356 - accuracy: 0.8621\n",
      "Epoch 48/100\n",
      "800/800 [==============================] - 1s 693us/step - loss: 0.3356 - accuracy: 0.8646\n",
      "Epoch 49/100\n",
      "800/800 [==============================] - 1s 660us/step - loss: 0.3360 - accuracy: 0.8629\n",
      "Epoch 50/100\n",
      "800/800 [==============================] - 0s 618us/step - loss: 0.3358 - accuracy: 0.8635\n",
      "Epoch 51/100\n",
      "800/800 [==============================] - 1s 650us/step - loss: 0.3360 - accuracy: 0.8641\n",
      "Epoch 52/100\n",
      "800/800 [==============================] - 1s 653us/step - loss: 0.3358 - accuracy: 0.8635\n",
      "Epoch 53/100\n",
      "800/800 [==============================] - 1s 651us/step - loss: 0.3355 - accuracy: 0.8625\n",
      "Epoch 54/100\n",
      "800/800 [==============================] - 1s 638us/step - loss: 0.3359 - accuracy: 0.8633\n",
      "Epoch 55/100\n",
      "800/800 [==============================] - 0s 615us/step - loss: 0.3356 - accuracy: 0.8630\n",
      "Epoch 56/100\n",
      "800/800 [==============================] - 1s 657us/step - loss: 0.3358 - accuracy: 0.8633\n",
      "Epoch 57/100\n",
      "800/800 [==============================] - 0s 622us/step - loss: 0.3353 - accuracy: 0.8645\n",
      "Epoch 58/100\n",
      "800/800 [==============================] - 1s 644us/step - loss: 0.3355 - accuracy: 0.8627\n",
      "Epoch 59/100\n",
      "800/800 [==============================] - 1s 653us/step - loss: 0.3356 - accuracy: 0.8629\n",
      "Epoch 60/100\n",
      "800/800 [==============================] - 1s 648us/step - loss: 0.3352 - accuracy: 0.8633\n",
      "Epoch 61/100\n",
      "800/800 [==============================] - 1s 661us/step - loss: 0.3356 - accuracy: 0.8633\n",
      "Epoch 62/100\n",
      "800/800 [==============================] - 1s 651us/step - loss: 0.3356 - accuracy: 0.8616\n",
      "Epoch 63/100\n",
      "800/800 [==============================] - 1s 639us/step - loss: 0.3357 - accuracy: 0.8637\n",
      "Epoch 64/100\n",
      "800/800 [==============================] - 0s 618us/step - loss: 0.3353 - accuracy: 0.8631\n",
      "Epoch 65/100\n",
      "800/800 [==============================] - 0s 619us/step - loss: 0.3356 - accuracy: 0.8626\n",
      "Epoch 66/100\n",
      "800/800 [==============================] - 1s 636us/step - loss: 0.3353 - accuracy: 0.8619\n",
      "Epoch 67/100\n",
      "800/800 [==============================] - 0s 624us/step - loss: 0.3353 - accuracy: 0.8631\n",
      "Epoch 68/100\n",
      "800/800 [==============================] - 1s 651us/step - loss: 0.3353 - accuracy: 0.8629\n",
      "Epoch 69/100\n",
      "800/800 [==============================] - 1s 643us/step - loss: 0.3350 - accuracy: 0.8634\n",
      "Epoch 70/100\n",
      "800/800 [==============================] - 0s 618us/step - loss: 0.3353 - accuracy: 0.8627\n",
      "Epoch 71/100\n",
      "800/800 [==============================] - 1s 644us/step - loss: 0.3353 - accuracy: 0.8636\n",
      "Epoch 72/100\n",
      "800/800 [==============================] - 1s 658us/step - loss: 0.3352 - accuracy: 0.8640\n",
      "Epoch 73/100\n",
      "800/800 [==============================] - 1s 634us/step - loss: 0.3352 - accuracy: 0.8629\n",
      "Epoch 74/100\n",
      "800/800 [==============================] - 0s 616us/step - loss: 0.3355 - accuracy: 0.8634\n",
      "Epoch 75/100\n",
      "800/800 [==============================] - 0s 601us/step - loss: 0.3354 - accuracy: 0.8633\n",
      "Epoch 76/100\n",
      "800/800 [==============================] - 1s 666us/step - loss: 0.3353 - accuracy: 0.8626\n",
      "Epoch 77/100\n",
      "800/800 [==============================] - 0s 609us/step - loss: 0.3354 - accuracy: 0.8634\n",
      "Epoch 78/100\n",
      "800/800 [==============================] - 0s 519us/step - loss: 0.3351 - accuracy: 0.8631\n",
      "Epoch 79/100\n"
     ]
    },
    {
     "name": "stdout",
     "output_type": "stream",
     "text": [
      "800/800 [==============================] - 1s 646us/step - loss: 0.3349 - accuracy: 0.8629\n",
      "Epoch 80/100\n",
      "800/800 [==============================] - 1s 658us/step - loss: 0.3351 - accuracy: 0.8640\n",
      "Epoch 81/100\n",
      "800/800 [==============================] - 1s 686us/step - loss: 0.3349 - accuracy: 0.8630\n",
      "Epoch 82/100\n",
      "800/800 [==============================] - 1s 685us/step - loss: 0.3348 - accuracy: 0.8629\n",
      "Epoch 83/100\n",
      "800/800 [==============================] - 1s 677us/step - loss: 0.3349 - accuracy: 0.8634\n",
      "Epoch 84/100\n",
      "800/800 [==============================] - 1s 656us/step - loss: 0.3350 - accuracy: 0.8636\n",
      "Epoch 85/100\n",
      "800/800 [==============================] - 1s 653us/step - loss: 0.3350 - accuracy: 0.8633\n",
      "Epoch 86/100\n",
      "800/800 [==============================] - 1s 658us/step - loss: 0.3353 - accuracy: 0.8629\n",
      "Epoch 87/100\n",
      "800/800 [==============================] - 1s 636us/step - loss: 0.3348 - accuracy: 0.8629\n",
      "Epoch 88/100\n",
      "800/800 [==============================] - 1s 674us/step - loss: 0.3353 - accuracy: 0.8635\n",
      "Epoch 89/100\n",
      "800/800 [==============================] - 1s 626us/step - loss: 0.3349 - accuracy: 0.8630\n",
      "Epoch 90/100\n",
      "800/800 [==============================] - 1s 670us/step - loss: 0.3350 - accuracy: 0.8630\n",
      "Epoch 91/100\n",
      "800/800 [==============================] - 1s 682us/step - loss: 0.3350 - accuracy: 0.8630\n",
      "Epoch 92/100\n",
      "800/800 [==============================] - 1s 685us/step - loss: 0.3351 - accuracy: 0.8648\n",
      "Epoch 93/100\n",
      "800/800 [==============================] - 1s 669us/step - loss: 0.3349 - accuracy: 0.8626\n",
      "Epoch 94/100\n",
      "800/800 [==============================] - 1s 671us/step - loss: 0.3350 - accuracy: 0.8637\n",
      "Epoch 95/100\n",
      "800/800 [==============================] - 1s 677us/step - loss: 0.3347 - accuracy: 0.8627\n",
      "Epoch 96/100\n",
      "800/800 [==============================] - 1s 678us/step - loss: 0.3349 - accuracy: 0.8633\n",
      "Epoch 97/100\n",
      "800/800 [==============================] - 0s 622us/step - loss: 0.3349 - accuracy: 0.8637\n",
      "Epoch 98/100\n",
      "800/800 [==============================] - 1s 662us/step - loss: 0.3351 - accuracy: 0.8633\n",
      "Epoch 99/100\n",
      "800/800 [==============================] - 1s 665us/step - loss: 0.3350 - accuracy: 0.8636\n",
      "Epoch 100/100\n",
      "800/800 [==============================] - 1s 681us/step - loss: 0.3348 - accuracy: 0.8618\n"
     ]
    },
    {
     "data": {
      "text/plain": [
       "<tensorflow.python.keras.callbacks.History at 0x7fac38339668>"
      ]
     },
     "execution_count": 47,
     "metadata": {},
     "output_type": "execute_result"
    }
   ],
   "source": [
    "del classifier\n",
    "\n",
    "classifier = Sequential()\n",
    "\n",
    "classifier.add(Dense(units = 6, kernel_initializer = 'uniform', activation = 'softmax', input_dim = 11))\n",
    "\n",
    "classifier.add(Dense(units = 6, kernel_initializer = 'uniform', activation = 'relu'))\n",
    "\n",
    "classifier.add(Dense(units = 1, kernel_initializer = 'uniform', activation = 'sigmoid'))\n",
    "\n",
    "classifier.compile(optimizer = 'adam', loss = 'binary_crossentropy', metrics = ['accuracy'])\n",
    "\n",
    "classifier.fit(X_train, y_train, batch_size = 10, epochs = 100)"
   ]
  },
  {
   "cell_type": "code",
   "execution_count": 19,
   "metadata": {},
   "outputs": [],
   "source": [
    "y_pred = classifier.predict(X_test)\n",
    "y_pred = (y_pred > 0.5)"
   ]
  },
  {
   "cell_type": "markdown",
   "metadata": {},
   "source": [
    "# Making the Confusion Matrix"
   ]
  },
  {
   "cell_type": "code",
   "execution_count": 20,
   "metadata": {},
   "outputs": [
    {
     "name": "stdout",
     "output_type": "stream",
     "text": [
      "[[1547   48]\n",
      " [ 265  140]]\n"
     ]
    }
   ],
   "source": [
    "from sklearn.metrics import confusion_matrix\n",
    "cm = confusion_matrix(y_test, y_pred)\n",
    "print(cm)"
   ]
  },
  {
   "cell_type": "markdown",
   "metadata": {},
   "source": [
    "---\n",
    "# Parte 4 - Evaluating, Improving and Tuning the ANN\n",
    "\n",
    "## Evaluating the ANN"
   ]
  },
  {
   "cell_type": "code",
   "execution_count": 48,
   "metadata": {},
   "outputs": [
    {
     "name": "stdout",
     "output_type": "stream",
     "text": [
      "accuracies:%s\n",
      "mean:%s\n",
      "variance:%s\n"
     ]
    }
   ],
   "source": [
    "from keras.wrappers.scikit_learn import KerasClassifier\n",
    "from sklearn.model_selection import cross_val_score\n",
    "from keras.models import Sequential\n",
    "from keras.layers import Dense\n",
    "\n",
    "def build_classifier():\n",
    "    classifier = Sequential()\n",
    "    classifier.add(Dense(units = 6, kernel_initializer = 'uniform', activation = 'relu', input_dim = 11))\n",
    "    classifier.add(Dense(units = 6, kernel_initializer = 'uniform', activation = 'relu'))\n",
    "    classifier.add(Dense(units = 1, kernel_initializer = 'uniform', activation = 'sigmoid'))\n",
    "    classifier.compile(optimizer = 'adam', loss = 'binary_crossentropy', metrics = ['accuracy'])\n",
    "    return classifier\n",
    "\n",
    "classifier = KerasClassifier(build_fn = build_classifier, batch_size = 10, epochs = 10)\n",
    "accuracies = cross_val_score(estimator = classifier, X = X_train, y = y_train, cv = 10, n_jobs = -1)\n",
    "mean = accuracies.mean()\n",
    "variance = accuracies.std()\n",
    "print(\"accuracies:%s\\nmean:%s\\nvariance:%s\".format(accuracies, mean, variance))"
   ]
  },
  {
   "cell_type": "markdown",
   "metadata": {},
   "source": [
    "# Improving the ANN\n",
    "# Dropout Regularization to reduce overfitting if needed"
   ]
  },
  {
   "cell_type": "code",
   "execution_count": null,
   "metadata": {},
   "outputs": [],
   "source": [
    "from keras.layers import Dropout\n",
    "\n",
    "def build_classifier():\n",
    "    classifier = Sequential()\n",
    "    classifier.add(Dense(units = 6, kernel_initializer = 'uniform', activation = 'relu', input_dim = 11))\n",
    "    classifier.add(Dropout(rate = 0.1))\n",
    "    classifier.add(Dense(units = 6, kernel_initializer = 'uniform', activation = 'relu'))\n",
    "    classifier.add(Dropout(rate = 0.1))\n",
    "    classifier.add(Dense(units = 1, kernel_initializer = 'uniform', activation = 'sigmoid'))\n",
    "    classifier.compile(optimizer = 'adam', loss = 'binary_crossentropy', metrics = ['accuracy'])\n",
    "    return classifier\n",
    "\n",
    "classifier = KerasClassifier(build_fn = build_classifier, batch_size = 10, epochs = 10)\n",
    "accuracies = cross_val_score(estimator = classifier, X = X_train, y = y_train, cv = 10, n_jobs = -1)\n",
    "mean = accuracies.mean()\n",
    "variance = accuracies.std()"
   ]
  },
  {
   "cell_type": "markdown",
   "metadata": {},
   "source": [
    "# Tuning the ANN"
   ]
  },
  {
   "cell_type": "code",
   "execution_count": null,
   "metadata": {},
   "outputs": [],
   "source": [
    "from keras.wrappers.scikit_learn import KerasClassifier\n",
    "from sklearn.model_selection import GridSearchCV\n",
    "from keras.models import Sequential\n",
    "from keras.layers import Dense\n",
    "\n",
    "def build_classifier(optimizer):\n",
    "    classifier = Sequential()\n",
    "    classifier.add(Dense(units = 6, kernel_initializer = 'uniform', activation = 'relu', input_dim = 11))\n",
    "    classifier.add(Dropout(rate = 0.1))\n",
    "    classifier.add(Dense(units = 6, kernel_initializer = 'uniform', activation = 'relu'))\n",
    "    classifier.add(Dropout(rate = 0.1))\n",
    "    classifier.add(Dense(units = 1, kernel_initializer = 'uniform', activation = 'sigmoid'))\n",
    "    classifier.compile(optimizer = optimizer, loss = 'binary_crossentropy', metrics = ['accuracy'])\n",
    "    return classifier\n",
    "\n",
    "classifier = KerasClassifier(build_fn = build_classifier)"
   ]
  },
  {
   "cell_type": "code",
   "execution_count": null,
   "metadata": {},
   "outputs": [],
   "source": [
    "parameters = {'batch_size': [10, 24, 32],\n",
    "              'epochs': [50, 100, 200],\n",
    "              'optimizer': ['adam', 'rmsprop']}\n",
    "\n",
    "grid_search = GridSearchCV(estimator = classifier,\n",
    "                           scoring = 'accuracy',\n",
    "                           param_grid = parameters,\n",
    "                           cv = 10)\n",
    "\n",
    "grid_search = grid_search.fit(X_train, y_train)\n",
    "\n",
    "best_parameters = grid_search.best_params_\n",
    "best_accuracy = grid_search.best_score_"
   ]
  },
  {
   "cell_type": "markdown",
   "metadata": {},
   "source": [
    "# FIM"
   ]
  },
  {
   "cell_type": "markdown",
   "metadata": {},
   "source": [
    "> Professor Diego Dorgam  \n",
    "> [@diegodorgam](https://twitter.com/diegodorgam)"
   ]
  }
 ],
 "metadata": {
  "kernelspec": {
   "display_name": "Python 3",
   "language": "python",
   "name": "python3"
  },
  "language_info": {
   "codemirror_mode": {
    "name": "ipython",
    "version": 3
   },
   "file_extension": ".py",
   "mimetype": "text/x-python",
   "name": "python",
   "nbconvert_exporter": "python",
   "pygments_lexer": "ipython3",
   "version": "3.6.9"
  }
 },
 "nbformat": 4,
 "nbformat_minor": 2
}
